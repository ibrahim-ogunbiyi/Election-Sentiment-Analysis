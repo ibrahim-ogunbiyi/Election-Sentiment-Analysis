{
 "cells": [
  {
   "cell_type": "code",
   "execution_count": 1,
   "id": "0cbe63da",
   "metadata": {},
   "outputs": [],
   "source": [
    "import snscrape.modules.twitter as sntwitter\n",
    "import pandas as pd"
   ]
  },
  {
   "cell_type": "markdown",
   "id": "a5cd15fb",
   "metadata": {},
   "source": [
    "# Scrape Tweets Based on the Hash Tag 2023Elections"
   ]
  },
  {
   "cell_type": "code",
   "execution_count": null,
   "id": "e020e920",
   "metadata": {},
   "outputs": [],
   "source": [
    "# Creating list to append tweet data to\n",
    "attributes_container = []\n",
    "\n",
    "# Using TwitterSearchScraper to scrape data and append tweets to list\n",
    "for i,tweet in enumerate(sntwitter.TwitterSearchScraper('2023Elections since:2022-06-08 until:2022-08-03').get_items()):\n",
    "    attributes_container.append([tweet.user.username, tweet.date, tweet.likeCount, tweet.sourceLabel, tweet.content, tweet.user.location])\n",
    "    \n",
    "# Creating a dataframe to load the list\n",
    "tweets_df = pd.DataFrame(attributes_container, columns=[\"User\", \"Date Created\", \"Number of Likes\", \"Source of Tweet\", \"Tweet\", \"Location\"])\n",
    "tweets_df.to_csv(\"Election2023\", index=False)"
   ]
  },
  {
   "cell_type": "markdown",
   "id": "fb938ea7",
   "metadata": {},
   "source": [
    "# Scrape Tweets Based on the Hash Tag Nigeria Decides 2023"
   ]
  },
  {
   "cell_type": "code",
   "execution_count": null,
   "id": "94a8a7ca",
   "metadata": {},
   "outputs": [],
   "source": [
    "attributes_container = []\n",
    "\n",
    "# Using TwitterSearchScraper to scrape data and append tweets to list\n",
    "for i,tweet in enumerate(sntwitter.TwitterSearchScraper('NigeriaDecides2023 since:2022-06-08 until:2022-08-03').get_items()):\n",
    "    attributes_container.append([tweet.user.username, tweet.date, tweet.likeCount, tweet.sourceLabel, tweet.content, tweet.user.location])\n",
    "    \n",
    "# Creating a dataframe to load the list\n",
    "tweet_df = pd.DataFrame(attributes_container, columns=[\"User\", \"Date Created\", \"Number of Likes\", \"Source of Tweet\", \"Tweet\", \"Location\"])"
   ]
  },
  {
   "cell_type": "code",
   "execution_count": null,
   "id": "c5b8cfd0",
   "metadata": {},
   "outputs": [],
   "source": [
    "tweet_df.to_csv(\"NigeriaDecides2023\", index=False)"
   ]
  },
  {
   "cell_type": "markdown",
   "id": "bbb56f4b",
   "metadata": {},
   "source": [
    "# Scrape Tweets Based on the Hash Tag # PeterOBI"
   ]
  },
  {
   "cell_type": "code",
   "execution_count": 3,
   "id": "40b61ee6",
   "metadata": {},
   "outputs": [],
   "source": [
    "attributes_container = []\n",
    "\n",
    "# Using TwitterSearchScraper to scrape data and append tweets to list\n",
    "for i,tweet in enumerate(sntwitter.TwitterSearchScraper('Peter Obi since:2022-08-01 until:2022-08-21').get_items()):\n",
    "    attributes_container.append([tweet.user.username, tweet.content, tweet.user.location])\n",
    "    \n",
    "# Creating a dataframe to load the list\n",
    "tweet_df = pd.DataFrame(attributes_container, columns=[\"User\",  \"Tweet\", \"Location\"])\n",
    "tweet_df.to_csv(\"PeterObi\", index=False)"
   ]
  },
  {
   "cell_type": "markdown",
   "id": "af4ce3a0",
   "metadata": {},
   "source": [
    "# Scrape Tweets Based on the Topic Tinubu"
   ]
  },
  {
   "cell_type": "code",
   "execution_count": null,
   "id": "c939b033",
   "metadata": {},
   "outputs": [],
   "source": [
    "attributes_container = []\n",
    "\n",
    "# Using TwitterSearchScraper to scrape data and append tweets to list\n",
    "for i,tweet in enumerate(sntwitter.TwitterSearchScraper('Tinubu since:2022-08-01 until:2022-08-21').get_items()):\n",
    "    attributes_container.append([tweet.user.username, tweet.content, tweet.user.location])\n",
    "    \n",
    "# Creating a dataframe to load the list\n",
    "tweet_df = pd.DataFrame(attributes_container, columns=[\"User\", \"Tweet\", \"Location\"])\n",
    "tweet_df.to_csv(\"Tinubu\", index=False)"
   ]
  },
  {
   "cell_type": "markdown",
   "id": "275ff91a",
   "metadata": {},
   "source": [
    "# Scrape Tweets Based On the Hash Tag OBIdient"
   ]
  },
  {
   "cell_type": "code",
   "execution_count": null,
   "id": "a7bfd1b9",
   "metadata": {},
   "outputs": [],
   "source": [
    "attributes_container = []\n",
    "\n",
    "# Using TwitterSearchScraper to scrape data and append tweets to list\n",
    "for i,tweet in enumerate(sntwitter.TwitterSearchScraper('Obidient since:2022-08-01 until:2022-08-21').get_items()):\n",
    "    attributes_container.append([tweet.user.username, tweet.content, tweet.user.location])\n",
    "    \n",
    "# Creating a dataframe to load the list\n",
    "tweet_df = pd.DataFrame(attributes_container, columns=[\"User\", \"Tweet\", \"Location\"])\n",
    "tweet_df.to_csv(\"OBIdient\", index=False)"
   ]
  },
  {
   "cell_type": "markdown",
   "id": "b1ff8475",
   "metadata": {},
   "source": [
    "# Scrape Tweets Based on the Hash Tag BAT2023"
   ]
  },
  {
   "cell_type": "code",
   "execution_count": null,
   "id": "ca4d593a",
   "metadata": {},
   "outputs": [],
   "source": [
    "attributes_container = []\n",
    "\n",
    "# Using TwitterSearchScraper to scrape data and append tweets to list\n",
    "for i,tweet in enumerate(sntwitter.TwitterSearchScraper('BAT2023 since:2022-08-01 until:2022-08-21').get_items()):\n",
    "    attributes_container.append([tweet.user.username, tweet.content, tweet.user.location])\n",
    "    \n",
    "# Creating a dataframe to load the list\n",
    "tweet_df = pd.DataFrame(attributes_container, columns=[\"User\", \"Tweet\", \"Location\"])\n",
    "tweet_df.to_csv(\"BAT2023\", index=False)"
   ]
  },
  {
   "cell_type": "code",
   "execution_count": null,
   "id": "a5f054cf",
   "metadata": {},
   "outputs": [],
   "source": [
    "attributes_container = []\n",
    "\n",
    "# Using TwitterSearchScraper to scrape data and append tweets to list\n",
    "for i,tweet in enumerate(sntwitter.TwitterSearchScraper('BAT23 since:2022-08-01 until:2022-08-21').get_items()):\n",
    "    attributes_container.append([tweet.user.username, tweet.content, tweet.user.location])\n",
    "    \n",
    "# Creating a dataframe to load the list\n",
    "tweet_df = pd.DataFrame(attributes_container, columns=[\"User\", \"Tweet\", \"Location\"])\n",
    "tweet_df.to_csv(\"BAT23\", index=False)"
   ]
  },
  {
   "cell_type": "code",
   "execution_count": null,
   "id": "e495711e",
   "metadata": {},
   "outputs": [],
   "source": []
  }
 ],
 "metadata": {
  "kernelspec": {
   "display_name": "Python 3 (ipykernel)",
   "language": "python",
   "name": "python3"
  },
  "language_info": {
   "codemirror_mode": {
    "name": "ipython",
    "version": 3
   },
   "file_extension": ".py",
   "mimetype": "text/x-python",
   "name": "python",
   "nbconvert_exporter": "python",
   "pygments_lexer": "ipython3",
   "version": "3.9.5"
  }
 },
 "nbformat": 4,
 "nbformat_minor": 5
}
